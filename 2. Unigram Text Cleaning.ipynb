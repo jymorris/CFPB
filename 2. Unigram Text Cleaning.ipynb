{
 "cells": [
  {
   "cell_type": "code",
   "execution_count": 1,
   "id": "96a906dd",
   "metadata": {},
   "outputs": [],
   "source": [
    "import pandas as pd\n",
    "import numpy as np"
   ]
  },
  {
   "cell_type": "code",
   "execution_count": 17,
   "id": "66bac054",
   "metadata": {},
   "outputs": [
    {
     "name": "stderr",
     "output_type": "stream",
     "text": [
      "[nltk_data] Downloading package stopwords to\n",
      "[nltk_data]     C:\\Users\\JYM\\AppData\\Roaming\\nltk_data...\n",
      "[nltk_data]   Package stopwords is already up-to-date!\n",
      "[nltk_data] Downloading package wordnet to\n",
      "[nltk_data]     C:\\Users\\JYM\\AppData\\Roaming\\nltk_data...\n",
      "[nltk_data]   Package wordnet is already up-to-date!\n",
      "[nltk_data] Downloading package omw-1.4 to\n",
      "[nltk_data]     C:\\Users\\JYM\\AppData\\Roaming\\nltk_data...\n"
     ]
    }
   ],
   "source": [
    "# for processing\n",
    "import re\n",
    "import nltk\n",
    "nltk.download('stopwords')\n",
    "nltk.download('wordnet')\n",
    "nltk.download('omw-1.4')\n",
    "\n",
    "# for bag-of-words\n",
    "from sklearn import feature_extraction, feature_selection, model_selection, naive_bayes, pipeline, manifold, preprocessing, metrics\n",
    "from sklearn.model_selection import train_test_split\n",
    "from sklearn.utils import resample\n",
    "\n",
    "## for train test split\n",
    "import imblearn"
   ]
  },
  {
   "cell_type": "code",
   "execution_count": 3,
   "id": "85ae6e77",
   "metadata": {},
   "outputs": [
    {
     "data": {
      "text/html": [
       "<style>.container { width:100% !important; }</style>"
      ],
      "text/plain": [
       "<IPython.core.display.HTML object>"
      ]
     },
     "metadata": {},
     "output_type": "display_data"
    }
   ],
   "source": [
    "from IPython.display import display, HTML\n",
    "display(HTML(\"<style>.container { width:100% !important; }</style>\"))"
   ]
  },
  {
   "cell_type": "code",
   "execution_count": 4,
   "id": "408b68cb",
   "metadata": {},
   "outputs": [
    {
     "name": "stderr",
     "output_type": "stream",
     "text": [
      "C:\\Users\\JYM\\AppData\\Local\\Temp/ipykernel_20072/2119433820.py:1: DtypeWarning: Columns (10) have mixed types. Specify dtype option on import or set low_memory=False.\n",
      "  cfpb_df = pd.read_csv('../data/CFPB with Duplicate Marked.csv')\n"
     ]
    },
    {
     "name": "stdout",
     "output_type": "stream",
     "text": [
      "Index(['Unnamed: 0', 'Date received', 'Product', 'Sub-product', 'Issue',\n",
      "       'Sub-issue', 'Consumer complaint narrative', 'Company public response',\n",
      "       'Company', 'State', 'ZIP code', 'Tags', 'Consumer consent provided?',\n",
      "       'Submitted via', 'Date sent to company', 'Company response to consumer',\n",
      "       'Timely response?', 'Consumer disputed?', 'Complaint ID', 'narr_len',\n",
      "       'days_to_today', 'dupi_id', 'dupi_len'],\n",
      "      dtype='object')\n",
      "(1300361, 23)\n"
     ]
    }
   ],
   "source": [
    "cfpb_df = pd.read_csv('../data/CFPB with Duplicate Marked.csv')\n",
    "print(cfpb_df.columns)\n",
    "print(cfpb_df.shape)"
   ]
  },
  {
   "cell_type": "code",
   "execution_count": 5,
   "id": "a0dc6158",
   "metadata": {},
   "outputs": [
    {
     "name": "stdout",
     "output_type": "stream",
     "text": [
      "(1106587, 23)\n",
      "Wall time: 445 ms\n"
     ]
    }
   ],
   "source": [
    "%%time\n",
    "# Drop duplicates based on 'dupi_id' column\n",
    "cfpb_df = cfpb_df.drop_duplicates(subset='dupi_id')\n",
    "print(cfpb_df.shape)"
   ]
  },
  {
   "cell_type": "code",
   "execution_count": 27,
   "id": "5737230c",
   "metadata": {},
   "outputs": [],
   "source": [
    "def unigram_preprocess_text(text):\n",
    "    '''\n",
    "    Preprocess text, remove stop words perform stemming and lematization.\n",
    "    :parameter\n",
    "        :param text: string - name of column containing text\n",
    "        :param flg_stemm: bool - whether stemming is to be applied\n",
    "        :param flg_lemm: bool - whether lemmitisation is to be applied\n",
    "    :return\n",
    "        cleaned text in str format\n",
    "    '''\n",
    "    \n",
    "    cleaned_text = ''\n",
    "    # try:\n",
    "    ## get stop words\n",
    "    ## our choices of stop words\n",
    "    lst_stopwords = nltk.corpus.stopwords.words(\"english\")\n",
    "    ## lst_stopwords=None\n",
    "\n",
    "    ## First we will clean up the XXXX maskings in the text created by CFPB\n",
    "    text = re.sub(r'X+X', '', str(text).strip())\n",
    "\n",
    "    ## clean (convert to lowercase and remove punctuations and characters and then strip)\n",
    "    text = re.sub(r'[^\\w\\s]', '', str(text).lower().strip())\n",
    "\n",
    "    ## Tokenize (convert from string to list)\n",
    "    lst_text = text.split()\n",
    "\n",
    "    ## remove Stopwords\n",
    "    if lst_stopwords is not None:\n",
    "        lst_text = [word for word in lst_text if word not in \n",
    "                    lst_stopwords]\n",
    "\n",
    "    ## Stemming (remove -ing, -ly, ...)\n",
    "    ## This stemming parts works pretty bad, but is something good to have. Better than nothing.\n",
    "    ps = nltk.stem.porter.PorterStemmer()\n",
    "    lst_text = [ps.stem(word) for word in lst_text]\n",
    "\n",
    "    ## Lemmatisation (convert the word into root word)\n",
    "    ## Also, not very helpful, but functions better than stemming part.\n",
    "    lem = nltk.stem.wordnet.WordNetLemmatizer()\n",
    "    lst_text = [lem.lemmatize(word) for word in lst_text]\n",
    "\n",
    "    ## back to string from list\n",
    "    cleaned_text = \" \".join(lst_text)\n",
    "    # except:\n",
    "    #     pass\n",
    "    return cleaned_text\n",
    "\n",
    "def get_unigram_narr(df):\n",
    "    '''\n",
    "    This is the group by helper function\n",
    "    '''\n",
    "    df['unigram_narr'] = df['Consumer complaint narrative'].apply(unigram_preprocess_text)\n",
    "    return df\n",
    "    "
   ]
  },
  {
   "cell_type": "code",
   "execution_count": 28,
   "id": "01e75c6d",
   "metadata": {},
   "outputs": [
    {
     "name": "stdout",
     "output_type": "stream",
     "text": [
      "Wall time: 1.13 s\n"
     ]
    }
   ],
   "source": [
    "%%time\n",
    "small_cfpb_df = cfpb_df[['Product', 'Issue', 'State', 'ZIP code','Complaint ID','Consumer complaint narrative']].sample(500).copy()\n",
    "small_cfpb_df[['Product', 'Issue', 'State', 'ZIP code']] = small_cfpb_df[['Product', 'Issue', 'State', 'ZIP code']].fillna('')\n",
    "small_cfpb_df = small_cfpb_df.groupby(['Product', 'Issue', 'State', 'ZIP code']).apply(func=get_unigram_narr)"
   ]
  },
  {
   "cell_type": "code",
   "execution_count": 29,
   "id": "cae52132",
   "metadata": {},
   "outputs": [
    {
     "data": {
      "text/html": [
       "<div>\n",
       "<style scoped>\n",
       "    .dataframe tbody tr th:only-of-type {\n",
       "        vertical-align: middle;\n",
       "    }\n",
       "\n",
       "    .dataframe tbody tr th {\n",
       "        vertical-align: top;\n",
       "    }\n",
       "\n",
       "    .dataframe thead th {\n",
       "        text-align: right;\n",
       "    }\n",
       "</style>\n",
       "<table border=\"1\" class=\"dataframe\">\n",
       "  <thead>\n",
       "    <tr style=\"text-align: right;\">\n",
       "      <th></th>\n",
       "      <th>Product</th>\n",
       "      <th>Issue</th>\n",
       "      <th>State</th>\n",
       "      <th>ZIP code</th>\n",
       "      <th>Complaint ID</th>\n",
       "      <th>Consumer complaint narrative</th>\n",
       "      <th>unigram_narr</th>\n",
       "    </tr>\n",
       "  </thead>\n",
       "  <tbody>\n",
       "    <tr>\n",
       "      <th>435780</th>\n",
       "      <td>Student loan</td>\n",
       "      <td>Dealing with your lender or servicer</td>\n",
       "      <td>MA</td>\n",
       "      <td>2090.0</td>\n",
       "      <td>3453067</td>\n",
       "      <td>I started making monthly student loan payments...</td>\n",
       "      <td>start make monthli student loan payment loan c...</td>\n",
       "    </tr>\n",
       "    <tr>\n",
       "      <th>11760</th>\n",
       "      <td>Credit reporting, credit repair services, or o...</td>\n",
       "      <td>Incorrect information on your report</td>\n",
       "      <td>VA</td>\n",
       "      <td>22191.0</td>\n",
       "      <td>4789107</td>\n",
       "      <td>I was deactivated from the XXXX platform becau...</td>\n",
       "      <td>deactiv platform report checkr checkr never se...</td>\n",
       "    </tr>\n",
       "    <tr>\n",
       "      <th>704463</th>\n",
       "      <td>Credit card or prepaid card</td>\n",
       "      <td>Other features, terms, or problems</td>\n",
       "      <td>FL</td>\n",
       "      <td>34241</td>\n",
       "      <td>4706992</td>\n",
       "      <td>5/3 stole {$1000.00} from me and has been lyin...</td>\n",
       "      <td>53 stole 100000 lie year see attach pictur onl...</td>\n",
       "    </tr>\n",
       "    <tr>\n",
       "      <th>2934</th>\n",
       "      <td>Credit card or prepaid card</td>\n",
       "      <td>Problem when making payments</td>\n",
       "      <td>IL</td>\n",
       "      <td>60431.0</td>\n",
       "      <td>6396747</td>\n",
       "      <td>I have a comenity Ulta card XXXX. \\nXXXX In XX...</td>\n",
       "      <td>comen ulta card 2022 made payment total 70000 ...</td>\n",
       "    </tr>\n",
       "    <tr>\n",
       "      <th>51189</th>\n",
       "      <td>Money transfer, virtual currency, or money ser...</td>\n",
       "      <td>Money was not available when promised</td>\n",
       "      <td>FL</td>\n",
       "      <td>33056.0</td>\n",
       "      <td>3120184</td>\n",
       "      <td>I made a XXXX transfer for {$2300.00} from my ...</td>\n",
       "      <td>made transfer 230000 bank america check accoun...</td>\n",
       "    </tr>\n",
       "    <tr>\n",
       "      <th>...</th>\n",
       "      <td>...</td>\n",
       "      <td>...</td>\n",
       "      <td>...</td>\n",
       "      <td>...</td>\n",
       "      <td>...</td>\n",
       "      <td>...</td>\n",
       "      <td>...</td>\n",
       "    </tr>\n",
       "    <tr>\n",
       "      <th>203315</th>\n",
       "      <td>Credit reporting, credit repair services, or o...</td>\n",
       "      <td>Problem with a credit reporting company's inve...</td>\n",
       "      <td>CA</td>\n",
       "      <td>95354.0</td>\n",
       "      <td>6637378</td>\n",
       "      <td>In accordance with the fair credit reporting a...</td>\n",
       "      <td>accord fair credit report act list account vio...</td>\n",
       "    </tr>\n",
       "    <tr>\n",
       "      <th>263299</th>\n",
       "      <td>Debt collection</td>\n",
       "      <td>Communication tactics</td>\n",
       "      <td>GA</td>\n",
       "      <td>30342.0</td>\n",
       "      <td>2161130</td>\n",
       "      <td>I am receiving multiple daily calls on my land...</td>\n",
       "      <td>receiv multipl daili call land line portfolio ...</td>\n",
       "    </tr>\n",
       "    <tr>\n",
       "      <th>219871</th>\n",
       "      <td>Credit card</td>\n",
       "      <td>Arbitration</td>\n",
       "      <td>KS</td>\n",
       "      <td>67205.0</td>\n",
       "      <td>2201117</td>\n",
       "      <td>I requested a mediator from American Express X...</td>\n",
       "      <td>request mediat american express month ago rega...</td>\n",
       "    </tr>\n",
       "    <tr>\n",
       "      <th>1018210</th>\n",
       "      <td>Mortgage</td>\n",
       "      <td>Trouble during payment process</td>\n",
       "      <td>NJ</td>\n",
       "      <td>8406.0</td>\n",
       "      <td>4136129</td>\n",
       "      <td>I purchased my home in XXXX of XXXX. NewRez to...</td>\n",
       "      <td>purchas home newrez took loan origin mortgag c...</td>\n",
       "    </tr>\n",
       "    <tr>\n",
       "      <th>173910</th>\n",
       "      <td>Checking or savings account</td>\n",
       "      <td>Managing an account</td>\n",
       "      <td>CA</td>\n",
       "      <td>92501.0</td>\n",
       "      <td>3143653</td>\n",
       "      <td>XXXX - wells fargo charged my account {$35.00}...</td>\n",
       "      <td>well fargo charg account 3500 overdraft fee en...</td>\n",
       "    </tr>\n",
       "  </tbody>\n",
       "</table>\n",
       "<p>500 rows × 7 columns</p>\n",
       "</div>"
      ],
      "text/plain": [
       "                                                   Product  \\\n",
       "435780                                        Student loan   \n",
       "11760    Credit reporting, credit repair services, or o...   \n",
       "704463                         Credit card or prepaid card   \n",
       "2934                           Credit card or prepaid card   \n",
       "51189    Money transfer, virtual currency, or money ser...   \n",
       "...                                                    ...   \n",
       "203315   Credit reporting, credit repair services, or o...   \n",
       "263299                                     Debt collection   \n",
       "219871                                         Credit card   \n",
       "1018210                                           Mortgage   \n",
       "173910                         Checking or savings account   \n",
       "\n",
       "                                                     Issue State ZIP code  \\\n",
       "435780                Dealing with your lender or servicer    MA   2090.0   \n",
       "11760                 Incorrect information on your report    VA  22191.0   \n",
       "704463                  Other features, terms, or problems    FL    34241   \n",
       "2934                          Problem when making payments    IL  60431.0   \n",
       "51189                Money was not available when promised    FL  33056.0   \n",
       "...                                                    ...   ...      ...   \n",
       "203315   Problem with a credit reporting company's inve...    CA  95354.0   \n",
       "263299                               Communication tactics    GA  30342.0   \n",
       "219871                                         Arbitration    KS  67205.0   \n",
       "1018210                     Trouble during payment process    NJ   8406.0   \n",
       "173910                                 Managing an account    CA  92501.0   \n",
       "\n",
       "         Complaint ID                       Consumer complaint narrative  \\\n",
       "435780        3453067  I started making monthly student loan payments...   \n",
       "11760         4789107  I was deactivated from the XXXX platform becau...   \n",
       "704463        4706992  5/3 stole {$1000.00} from me and has been lyin...   \n",
       "2934          6396747  I have a comenity Ulta card XXXX. \\nXXXX In XX...   \n",
       "51189         3120184  I made a XXXX transfer for {$2300.00} from my ...   \n",
       "...               ...                                                ...   \n",
       "203315        6637378  In accordance with the fair credit reporting a...   \n",
       "263299        2161130  I am receiving multiple daily calls on my land...   \n",
       "219871        2201117  I requested a mediator from American Express X...   \n",
       "1018210       4136129  I purchased my home in XXXX of XXXX. NewRez to...   \n",
       "173910        3143653  XXXX - wells fargo charged my account {$35.00}...   \n",
       "\n",
       "                                              unigram_narr  \n",
       "435780   start make monthli student loan payment loan c...  \n",
       "11760    deactiv platform report checkr checkr never se...  \n",
       "704463   53 stole 100000 lie year see attach pictur onl...  \n",
       "2934     comen ulta card 2022 made payment total 70000 ...  \n",
       "51189    made transfer 230000 bank america check accoun...  \n",
       "...                                                    ...  \n",
       "203315   accord fair credit report act list account vio...  \n",
       "263299   receiv multipl daili call land line portfolio ...  \n",
       "219871   request mediat american express month ago rega...  \n",
       "1018210  purchas home newrez took loan origin mortgag c...  \n",
       "173910   well fargo charg account 3500 overdraft fee en...  \n",
       "\n",
       "[500 rows x 7 columns]"
      ]
     },
     "execution_count": 29,
     "metadata": {},
     "output_type": "execute_result"
    }
   ],
   "source": [
    "small_cfpb_df"
   ]
  },
  {
   "cell_type": "code",
   "execution_count": 19,
   "id": "88b32af0",
   "metadata": {},
   "outputs": [
    {
     "name": "stdout",
     "output_type": "stream",
     "text": [
      "Wall time: 2.07 s\n"
     ]
    }
   ],
   "source": []
  },
  {
   "cell_type": "code",
   "execution_count": 21,
   "id": "434c7c00",
   "metadata": {},
   "outputs": [
    {
     "data": {
      "text/html": [
       "<div>\n",
       "<style scoped>\n",
       "    .dataframe tbody tr th:only-of-type {\n",
       "        vertical-align: middle;\n",
       "    }\n",
       "\n",
       "    .dataframe tbody tr th {\n",
       "        vertical-align: top;\n",
       "    }\n",
       "\n",
       "    .dataframe thead th {\n",
       "        text-align: right;\n",
       "    }\n",
       "</style>\n",
       "<table border=\"1\" class=\"dataframe\">\n",
       "  <thead>\n",
       "    <tr style=\"text-align: right;\">\n",
       "      <th></th>\n",
       "    </tr>\n",
       "  </thead>\n",
       "  <tbody>\n",
       "  </tbody>\n",
       "</table>\n",
       "</div>"
      ],
      "text/plain": [
       "Empty DataFrame\n",
       "Columns: []\n",
       "Index: []"
      ]
     },
     "execution_count": 21,
     "metadata": {},
     "output_type": "execute_result"
    }
   ],
   "source": [
    "small_cfpb_df"
   ]
  },
  {
   "cell_type": "code",
   "execution_count": null,
   "id": "3aae28c5",
   "metadata": {},
   "outputs": [],
   "source": []
  }
 ],
 "metadata": {
  "kernelspec": {
   "display_name": "Python 3 (ipykernel)",
   "language": "python",
   "name": "python3"
  },
  "language_info": {
   "codemirror_mode": {
    "name": "ipython",
    "version": 3
   },
   "file_extension": ".py",
   "mimetype": "text/x-python",
   "name": "python",
   "nbconvert_exporter": "python",
   "pygments_lexer": "ipython3",
   "version": "3.9.13"
  }
 },
 "nbformat": 4,
 "nbformat_minor": 5
}
